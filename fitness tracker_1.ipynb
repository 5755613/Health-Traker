{
  "cells": [
    {
      "cell_type": "code",
      "execution_count": null,
      "metadata": {
        "id": "hnBmV-Dqv5St"
      },
      "outputs": [],
      "source": [
        "import datetime\n",
        "weight_log = []\n",
        "workout_log = []\n",
        "meal_log = []\n",
        "\n",
        "def log_weight(weight):\n",
        "    weight_log.append(weight)\n",
        "    print(f\"Weight of {weight} kg logged.\")\n",
        "\n",
        "def log_workout(workout, duration, calories_burned):\n",
        "    workout_log.append((workout, duration, calories_burned))\n",
        "    print(f\"Logged a {workout} workout for {duration} minutes, burning {calories_burned} calories.\")\n",
        "\n",
        "def log_meal(meal, M_calories):\n",
        "    meal_log.append((meal, M_calories))\n",
        "    print(f\"Logged a meal of {meal} with {M_calories} calories.\")\n",
        "\n",
        "def display_logs():\n",
        "    print(\"\\nWeight Log:\")\n",
        "    for weight in weight_log:\n",
        "        print(f\"{weight} kg\")\n",
        "\n",
        "    print(\"\\nWorkout Log:\")\n",
        "    for workout, duration, calories_burned in workout_log:\n",
        "        print(f\"{workout} for {duration} minutes, burning {calories_burned} calories.\")\n",
        "\n",
        "    print(\"\\nMeal Log:\")\n",
        "    for meal, calories in meal_log:\n",
        "        print(f\"{meal} ({calories} calories)\")\n",
        "def calculate_calories_balance():\n",
        "    total_calories_burned = sum(calories_burned for _, _, calories_burned in workout_log)\n",
        "    total_calories_consumed = sum(calories for _, calories in meal_log)\n",
        "    balance = total_calories_consumed - total_calories_burned\n",
        "    print(f\"Calories balance: {balance} calories\")\n",
        "\n",
        "while True:\n",
        "    print(\"\\nFitness Tracker Menu:\")\n",
        "    print(\"1. Log Weight\")\n",
        "    print(\"2. Log Workout\")\n",
        "    print(\"3. Log Meal\")\n",
        "    print(\"4. Display Logs\")\n",
        "    print(\"5. Calculate Calories Balance\")\n",
        "    print(\"6. Exit\")\n",
        "\n",
        "    choice = input(\"Enter your choice (1/2/3/4/5/6): \")\n",
        "\n",
        "    if choice == \"1\":\n",
        "        weight = float(input(\"Enter your weight (in kilograms): \"))\n",
        "        log_weight(weight)\n",
        "    elif choice == \"2\":\n",
        "        workout = input(\"Enter the workout type: \")\n",
        "        duration = float(input(\"Enter the duration (in minutes): \"))\n",
        "        calories_burned = int(input(\"How many calories burned: \"))\n",
        "        log_workout(workout, duration, calories_burned)\n",
        "    elif choice == \"3\":\n",
        "        meal = input(\"Enter the meal description: \")\n",
        "        calories = int(input(\"Enter the calorie count: \"))\n",
        "        log_meal(meal, calories)\n",
        "    elif choice == \"4\":\n",
        "        display_logs()\n",
        "    elif choice == \"5\":\n",
        "        calculate_calories_balance()\n",
        "    elif choice == \"6\":\n",
        "        current_time = datetime.datetime.now()\n",
        "        print(f\"Goodbye! Program exited at {current_time}\")\n",
        "        break\n",
        "    else:\n",
        "        print(\"Invalid choice. Please enter 1, 2, 3, 4, 5, or 6.\")\n"
      ]
    }
  ],
  "metadata": {
    "kernelspec": {
      "display_name": "Python 3",
      "language": "python",
      "name": "python3"
    },
    "language_info": {
      "codemirror_mode": {
        "name": "ipython",
        "version": 3
      },
      "file_extension": ".py",
      "mimetype": "text/x-python",
      "name": "python",
      "nbconvert_exporter": "python",
      "pygments_lexer": "ipython3",
      "version": "3.11.5"
    },
    "orig_nbformat": 4,
    "colab": {
      "provenance": []
    }
  },
  "nbformat": 4,
  "nbformat_minor": 0
}